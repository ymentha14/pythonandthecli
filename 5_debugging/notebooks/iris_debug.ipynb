{
 "cells": [
  {
   "cell_type": "code",
   "execution_count": 1,
   "id": "459253c4-5a2d-40ee-bd63-cee920a92bbc",
   "metadata": {},
   "outputs": [],
   "source": [
    "%load_ext autoreload\n",
    "%autoreload 2"
   ]
  },
  {
   "cell_type": "code",
   "execution_count": 2,
   "id": "001a5024-bea2-43e9-b9dc-4384a01a245e",
   "metadata": {},
   "outputs": [],
   "source": [
    "from src_debug.load import load_iris_df, load_magnolia_df\n",
    "from src_debug.transform import remove_outliers, run_PCA\n",
    "from src_debug.visualization import plot_3d, sanity_outlier_plot"
   ]
  },
  {
   "cell_type": "markdown",
   "id": "f080bbe5-8c6e-4baa-8708-be26325a9a8a",
   "metadata": {},
   "source": [
    "Try running the followin cell: "
   ]
  },
  {
   "cell_type": "code",
   "execution_count": 4,
   "id": "0ac0347f-4dfb-4263-89c0-f42da8031a98",
   "metadata": {},
   "outputs": [
    {
     "ename": "AttributeError",
     "evalue": "module 'sklearn.datasets' has no attribute 'load_magnolia'",
     "output_type": "error",
     "traceback": [
      "\u001b[0;31m---------------------------------------------------------------------------\u001b[0m",
      "\u001b[0;31mAttributeError\u001b[0m                            Traceback (most recent call last)",
      "Input \u001b[0;32mIn [4]\u001b[0m, in \u001b[0;36m<cell line: 1>\u001b[0;34m()\u001b[0m\n\u001b[0;32m----> 1\u001b[0m \u001b[43mload_magnolia_df\u001b[49m\u001b[43m(\u001b[49m\u001b[43m)\u001b[49m\n",
      "File \u001b[0;32m~/python_tutorial/6_debugging/src_debug/load.py:25\u001b[0m, in \u001b[0;36mload_magnolia_df\u001b[0;34m()\u001b[0m\n\u001b[1;32m     21\u001b[0m \u001b[38;5;124;03m\"\"\"\u001b[39;00m\n\u001b[1;32m     22\u001b[0m \u001b[38;5;124;03mFunction for debug features puprpose\u001b[39;00m\n\u001b[1;32m     23\u001b[0m \u001b[38;5;124;03m\"\"\"\u001b[39;00m\n\u001b[1;32m     24\u001b[0m \u001b[38;5;66;03m# datasets has no function load_magnolia\u001b[39;00m\n\u001b[0;32m---> 25\u001b[0m iris \u001b[38;5;241m=\u001b[39m \u001b[43mdatasets\u001b[49m\u001b[38;5;241;43m.\u001b[39;49m\u001b[43mload_magnolia\u001b[49m()\n\u001b[1;32m     26\u001b[0m column_names \u001b[38;5;241m=\u001b[39m iris[\u001b[38;5;124m'\u001b[39m\u001b[38;5;124mfeature_names\u001b[39m\u001b[38;5;124m'\u001b[39m]\n\u001b[1;32m     28\u001b[0m \u001b[38;5;66;03m# The list has only 4 elements! probably a typo\u001b[39;00m\n",
      "\u001b[0;31mAttributeError\u001b[0m: module 'sklearn.datasets' has no attribute 'load_magnolia'"
     ]
    }
   ],
   "source": [
    "load_magnolia_df()"
   ]
  },
  {
   "cell_type": "markdown",
   "id": "d5d22169-644b-46f2-a3f4-7413982594a7",
   "metadata": {},
   "source": [
    "An exception occured: this is expected: we want to debug it! Just run the following cell now."
   ]
  },
  {
   "cell_type": "code",
   "execution_count": 6,
   "id": "55d6df04-c67f-45db-9d70-a64c6e1bfe54",
   "metadata": {},
   "outputs": [
    {
     "name": "stdout",
     "output_type": "stream",
     "text": [
      "> \u001b[0;32m/home/mty1/python_tutorial/6_debugging/src_debug/load.py\u001b[0m(25)\u001b[0;36mload_magnolia_df\u001b[0;34m()\u001b[0m\n",
      "\u001b[0;32m     23 \u001b[0;31m    \"\"\"\n",
      "\u001b[0m\u001b[0;32m     24 \u001b[0;31m    \u001b[0;31m# datasets has no function load_magnolia\u001b[0m\u001b[0;34m\u001b[0m\u001b[0;34m\u001b[0m\u001b[0m\n",
      "\u001b[0m\u001b[0;32m---> 25 \u001b[0;31m    \u001b[0miris\u001b[0m \u001b[0;34m=\u001b[0m \u001b[0mdatasets\u001b[0m\u001b[0;34m.\u001b[0m\u001b[0mload_magnolia\u001b[0m\u001b[0;34m(\u001b[0m\u001b[0;34m)\u001b[0m\u001b[0;34m\u001b[0m\u001b[0;34m\u001b[0m\u001b[0m\n",
      "\u001b[0m\u001b[0;32m     26 \u001b[0;31m    \u001b[0mcolumn_names\u001b[0m \u001b[0;34m=\u001b[0m \u001b[0miris\u001b[0m\u001b[0;34m[\u001b[0m\u001b[0;34m'feature_names'\u001b[0m\u001b[0;34m]\u001b[0m\u001b[0;34m\u001b[0m\u001b[0;34m\u001b[0m\u001b[0m\n",
      "\u001b[0m\u001b[0;32m     27 \u001b[0;31m\u001b[0;34m\u001b[0m\u001b[0m\n",
      "\u001b[0m\n"
     ]
    },
    {
     "name": "stdin",
     "output_type": "stream",
     "text": [
      "ipdb>  q\n"
     ]
    }
   ],
   "source": [
    "%debug"
   ]
  },
  {
   "cell_type": "markdown",
   "id": "f45e4290-1207-4f05-ae6d-40bd840353f1",
   "metadata": {},
   "source": [
    "You are thrown in an interactive pdb! The same commands seen before apply, try for instance to run\n",
    "\n",
    "       print(N_flowers)"
   ]
  }
 ],
 "metadata": {
  "kernelspec": {
   "display_name": "main_env_kernel",
   "language": "python",
   "name": "main_env_kernel"
  },
  "language_info": {
   "codemirror_mode": {
    "name": "ipython",
    "version": 3
   },
   "file_extension": ".py",
   "mimetype": "text/x-python",
   "name": "python",
   "nbconvert_exporter": "python",
   "pygments_lexer": "ipython3",
   "version": "3.10.4"
  }
 },
 "nbformat": 4,
 "nbformat_minor": 5
}
